{
 "cells": [
  {
   "cell_type": "code",
   "execution_count": 1,
   "metadata": {},
   "outputs": [],
   "source": [
    "import librosa\n",
    "import pandas as pd\n",
    "from nisqa.NISQA_model import nisqaModel"
   ]
  },
  {
   "cell_type": "code",
   "execution_count": 2,
   "metadata": {},
   "outputs": [
    {
     "name": "stdout",
     "output_type": "stream",
     "text": [
      "Device: cuda\n",
      "Model architecture: NISQA\n",
      "Loaded pretrained model from artifacts/transfer-learning_240425_214232672655/transfer-learning_240425_214232672655.tar\n"
     ]
    }
   ],
   "source": [
    "kwargs = {\n",
    "\t\"mode\": \"predict_csv\",\n",
    "\t\"pretrained_model\": \"artifacts/transfer-learning_240425_214232672655/transfer-learning_240425_214232672655.tar\",\n",
    "\t\"data_dir\": \"train_data/\",\n",
    "\t\"output_dir\": \"eval/\",\n",
    "\t\"csv_file\": \"TRAIN.csv\",\n",
    "\t\"csv_deg\": \"filepath_deg\",\n",
    "\t\"csv_mos_val\": \"mos\",\n",
    "\t\"tr_num_workers\": 6,\n",
    "\t\"tr_bs_val\": 40,\n",
    "\t\"ms_channel\": None,\n",
    "}\n",
    "\n",
    "nisqa = nisqaModel(kwargs)"
   ]
  },
  {
   "cell_type": "code",
   "execution_count": 3,
   "metadata": {},
   "outputs": [],
   "source": [
    "preds = nisqa.predict()"
   ]
  }
 ],
 "metadata": {
  "kernelspec": {
   "display_name": "base",
   "language": "python",
   "name": "python3"
  },
  "language_info": {
   "codemirror_mode": {
    "name": "ipython",
    "version": 3
   },
   "file_extension": ".py",
   "mimetype": "text/x-python",
   "name": "python",
   "nbconvert_exporter": "python",
   "pygments_lexer": "ipython3",
   "version": "3.10.14"
  }
 },
 "nbformat": 4,
 "nbformat_minor": 2
}
